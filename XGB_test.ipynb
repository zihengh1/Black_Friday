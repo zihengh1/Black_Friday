{
 "cells": [
  {
   "cell_type": "code",
   "execution_count": 6,
   "metadata": {},
   "outputs": [],
   "source": [
    "import sys\n",
    "import numpy as np\n",
    "import pandas as pd\n",
    "import xgboost as xgb\n",
    "from sklearn.preprocessing import LabelEncoder"
   ]
  },
  {
   "cell_type": "code",
   "execution_count": 7,
   "metadata": {},
   "outputs": [],
   "source": [
    "# Reading datasets\n",
    "train = pd.read_csv(\"train.csv\")\n",
    "test = pd.read_csv(\"test.csv\")\n",
    "submit = pd.read_csv(\"Sample_Submission_Tm9Lura.csv\")"
   ]
  },
  {
   "cell_type": "code",
   "execution_count": 8,
   "metadata": {},
   "outputs": [],
   "source": [
    "# Saving id variables to create final submission\n",
    "ids_test = test['User_ID'].copy()\n",
    "product_ids_test = test['Product_ID'].copy()"
   ]
  },
  {
   "cell_type": "code",
   "execution_count": 9,
   "metadata": {},
   "outputs": [
    {
     "name": "stderr",
     "output_type": "stream",
     "text": [
      "C:\\Users\\test\\Anaconda3\\lib\\site-packages\\ipykernel_launcher.py:3: DeprecationWarning: \n",
      ".ix is deprecated. Please use\n",
      ".loc for label based indexing or\n",
      ".iloc for positional indexing\n",
      "\n",
      "See the documentation here:\n",
      "http://pandas.pydata.org/pandas-docs/stable/indexing.html#ix-indexer-is-deprecated\n",
      "  This is separate from the ipykernel package so we can avoid doing imports until\n"
     ]
    }
   ],
   "source": [
    "# Reducing boundaries to decrease RMSE\n",
    "cutoff_purchase = np.percentile(train['Purchase'], 99.9)  # 99.9 percentile\n",
    "train.ix[train['Purchase'] > cutoff_purchase, 'Purchase'] = cutoff_purchase"
   ]
  },
  {
   "cell_type": "code",
   "execution_count": 10,
   "metadata": {},
   "outputs": [],
   "source": [
    "# Label Encoding User_IDs\n",
    "le = LabelEncoder()\n",
    "train['User_ID'] = le.fit_transform(train['User_ID'])\n",
    "test['User_ID'] = le.transform(test['User_ID'])"
   ]
  },
  {
   "cell_type": "code",
   "execution_count": 11,
   "metadata": {},
   "outputs": [
    {
     "name": "stderr",
     "output_type": "stream",
     "text": [
      "C:\\Users\\test\\Anaconda3\\lib\\site-packages\\ipykernel_launcher.py:6: DeprecationWarning: \n",
      ".ix is deprecated. Please use\n",
      ".loc for label based indexing or\n",
      ".iloc for positional indexing\n",
      "\n",
      "See the documentation here:\n",
      "http://pandas.pydata.org/pandas-docs/stable/indexing.html#ix-indexer-is-deprecated\n",
      "  \n",
      "C:\\Users\\test\\Anaconda3\\lib\\site-packages\\ipykernel_launcher.py:9: DeprecationWarning: \n",
      ".ix is deprecated. Please use\n",
      ".loc for label based indexing or\n",
      ".iloc for positional indexing\n",
      "\n",
      "See the documentation here:\n",
      "http://pandas.pydata.org/pandas-docs/stable/indexing.html#ix-indexer-is-deprecated\n",
      "  if __name__ == '__main__':\n"
     ]
    }
   ],
   "source": [
    "# Label Encoding Product_IDs\n",
    "new_product_ids = list(set(pd.unique(test['Product_ID'])) - set(pd.unique(train['Product_ID'])))\n",
    "\n",
    "le = LabelEncoder()\n",
    "train['Product_ID'] = le.fit_transform(train['Product_ID'])\n",
    "test.ix[test['Product_ID'].isin(new_product_ids), 'Product_ID'] = -1\n",
    "new_product_ids.append(-1)\n",
    "\n",
    "test.ix[~test['Product_ID'].isin(new_product_ids), 'Product_ID'] = le.transform(test.ix[~test['Product_ID'].isin(new_product_ids), 'Product_ID'])"
   ]
  },
  {
   "cell_type": "code",
   "execution_count": 12,
   "metadata": {},
   "outputs": [],
   "source": [
    "# NOTES:\n",
    "# 3631 unique values in train - Product_ID\n",
    "# 3491 unique values in test - Product_ID\n",
    "# 46 new product ids in test set and 186 products absent in test\n",
    "# Only Product_Category_2 and Product_Category_3 have missing values.\n",
    "\n",
    "y = train['Purchase']\n",
    "train.drop(['Purchase', 'Product_Category_2', 'Product_Category_3'], inplace=True, axis=1)\n",
    "test.drop(['Product_Category_2', 'Product_Category_3'], inplace=True, axis=1)"
   ]
  },
  {
   "cell_type": "code",
   "execution_count": 13,
   "metadata": {},
   "outputs": [],
   "source": [
    "train = pd.get_dummies(train)\n",
    "test = pd.get_dummies(test)"
   ]
  },
  {
   "cell_type": "code",
   "execution_count": 14,
   "metadata": {},
   "outputs": [],
   "source": [
    "# Modeling\n",
    "dtrain = xgb.DMatrix(train.values, label=y, missing=np.nan)\n",
    "\n",
    "param = {'objective': 'reg:linear', 'booster': 'gbtree', 'silent': 1,\n",
    "\t\t 'max_depth': 10, 'eta': 0.1, 'nthread': 4,\n",
    "\t\t 'subsample': 0.8, 'colsample_bytree': 0.8, 'min_child_weight': 20,\n",
    "\t\t 'max_delta_step': 0, 'gamma': 0}\n",
    "num_round = 690"
   ]
  },
  {
   "cell_type": "code",
   "execution_count": 15,
   "metadata": {},
   "outputs": [],
   "source": [
    "# xgb.cv(param, dtrain, num_round, nfold=4, seed=2244, show_progress=True)\n",
    "# exit()\n",
    "# [690]   cv-test-rmse:2487.3809205+9.82125332763 - 10 690 and 20 - produt category 2,3 removed - v3\n",
    "\n",
    "seeds = [1122, 2244, 3366, 4488, 5500]\n",
    "test_preds = np.zeros((len(test), len(seeds)))"
   ]
  },
  {
   "cell_type": "code",
   "execution_count": 16,
   "metadata": {},
   "outputs": [
    {
     "name": "stdout",
     "output_type": "stream",
     "text": [
      "XGB RUN:5/5"
     ]
    }
   ],
   "source": [
    "for run in range(len(seeds)):\n",
    "\tsys.stdout.write(\"\\rXGB RUN:{}/{}\".format(run+1, len(seeds)))\n",
    "\tsys.stdout.flush()\n",
    "\tparam['seed'] = seeds[run]\n",
    "\tclf = xgb.train(param, dtrain, num_round)\n",
    "\tdtest = xgb.DMatrix(test.values, missing=np.nan)\n",
    "\ttest_preds[:, run] = clf.predict(dtest)"
   ]
  },
  {
   "cell_type": "code",
   "execution_count": 17,
   "metadata": {},
   "outputs": [],
   "source": [
    "test_preds = np.mean(test_preds, axis=1)"
   ]
  },
  {
   "cell_type": "code",
   "execution_count": 18,
   "metadata": {},
   "outputs": [
    {
     "name": "stderr",
     "output_type": "stream",
     "text": [
      "C:\\Users\\test\\Anaconda3\\lib\\site-packages\\ipykernel_launcher.py:5: DeprecationWarning: \n",
      ".ix is deprecated. Please use\n",
      ".loc for label based indexing or\n",
      ".iloc for positional indexing\n",
      "\n",
      "See the documentation here:\n",
      "http://pandas.pydata.org/pandas-docs/stable/indexing.html#ix-indexer-is-deprecated\n",
      "  \"\"\"\n"
     ]
    }
   ],
   "source": [
    "# Submission file\n",
    "submit = pd.DataFrame({'User_ID': ids_test, 'Product_ID': product_ids_test, 'Purchase': test_preds})\n",
    "submit = submit[['User_ID', 'Product_ID', 'Purchase']]\n",
    "\n",
    "submit.ix[submit['Purchase'] < 0, 'Purchase'] = 12  # changing min prediction to min value in train\n",
    "submit.to_csv(\"final_solution.csv\", index=False)"
   ]
  },
  {
   "cell_type": "code",
   "execution_count": null,
   "metadata": {},
   "outputs": [],
   "source": []
  },
  {
   "cell_type": "code",
   "execution_count": null,
   "metadata": {},
   "outputs": [],
   "source": []
  },
  {
   "cell_type": "code",
   "execution_count": null,
   "metadata": {},
   "outputs": [],
   "source": []
  }
 ],
 "metadata": {
  "kernelspec": {
   "display_name": "Python 3",
   "language": "python",
   "name": "python3"
  },
  "language_info": {
   "codemirror_mode": {
    "name": "ipython",
    "version": 3
   },
   "file_extension": ".py",
   "mimetype": "text/x-python",
   "name": "python",
   "nbconvert_exporter": "python",
   "pygments_lexer": "ipython3",
   "version": "3.6.7"
  }
 },
 "nbformat": 4,
 "nbformat_minor": 2
}
