{
 "cells": [
  {
   "cell_type": "markdown",
   "metadata": {},
   "source": [
    "# Black_Friday\n",
    "## Data analysis\n",
    "1. There are 5891 unique users and 3623 unique products\n",
    "2. Total rows:537577, Prod2 Missing:31%, Prod3 Missing:69%\n",
    "> We really have a shortage of data in the Product Category 3 field, almost 70% of the data is not available. We will have to take this in consideration in our feature engineering phase. If we intend to keep these columns however, then we need to replace the missing values by something our deep nerual network can recognize. Since both columns represent categorical data, we can create a new category that represent missing values.\n",
    ">\n",
    "3. Gender: ['F', 'M']\n",
    "4. Age: ['0-17', '18-25', '26-35', '36-45', '46-50', '51-55', '55+']\n",
    "5. Ocupation: [0, 1, 2, 3, 4, 5, 6, 7, 8, 9, 10, 11, 12, 13, 14, 15, 16, 17, 18, 19, 20]\n",
    "6. City: ['A', 'B', 'C']\n",
    "7. Stay City years: ['2', '4+', '3', '1', '0']\n",
    "8. Marital Status: [0, 1]\n",
    "9. Linear models and Random Forests SO \"BAD\"\n",
    "10. City Level Hypotheses:\n",
    "> * City Type and Size : Urban or Tier 1 cities should have higher sales because of the higher income levels of people there.\n",
    ">\n",
    "> * Population Density: Cities with densely populated areas should have higher sales because of more demand.\n",
    ">\n",
    "> * Younger Population : Cities with younger populations might have higher tendency to spend more on Black Friday\n",
    ">\n",
    "11. Customer Level Hypotheses:\n",
    "> * Income: People with higher income should spend more on products.\n",
    ">\n",
    "> * Age and Gender: Men with ages ranging from 25 to 40 should spend more on techlogical products.\n",
    ">\n",
    "> * Family Size: Families should be more contained on spendings, just buying the best offers and only needed products.\n",
    ">\n",
    "> * Purchase History: Customer with a purchase history should be more willing to purchase more products on this day.\n",
    ">\n",
    "12. Store Level Hypotheses:\n",
    "> * Location: Stores with a location in well moved streets should have better sales.\n",
    ">\n",
    "> * Size: Bigger stores with higher stores and variety of products should have better sales.\n",
    ">\n",
    "> * Competition: Stores with no competitors near by must have the highest sales.\n",
    "> \n",
    "> * Marketing: Do stores which spend more on marketing should have the best sales results\n",
    ">\n",
    "13. Product Level Hypotheses:\n",
    "> * Category: Most clients should be looking to buy technological products;\n",
    ">\n",
    "> * Price: Customer will spend more on products with higher discounts\n",
    ">\n",
    "> * Advertising: More advertised products should sell more\n",
    "> \n",
    "> * Visibility: More visible products should sell more\n",
    "> \n",
    "> * Brand: Clients will invest more on already known brands\n",
    ">\n",
    "14. Others Questions\n",
    "> * Which type of client spends more?\n",
    ">\n",
    "> * Which product category and store had the highest sales?\n",
    ">\n",
    "> * What products usually buy families and single people?\n",
    ">\n",
    "> * According to age and sex what are the most bought products?\n",
    ">\n",
    "> * Which cities spend the most?\n",
    ">\n",
    "> * Do stores with high marketing budgets have higher sales?\n",
    ">\n",
    "> * Does client’s income has an impact on his/her purchase?\n",
    ">\n",
    "> * Do younger people look for more techological products?\n",
    ">"
   ]
  },
  {
   "cell_type": "markdown",
   "metadata": {},
   "source": [
    "## Data Mining Stage\n",
    "1. Exploratory data analysis (EDA)\n",
    "2. Data Pre-processing\n",
    "3. Feature engineering\n",
    "4. Feature Transformation\n",
    "5. Modeling\n",
    "6. Hyperparameter tuning\n",
    "7. Ensembling\n"
   ]
  },
  {
   "cell_type": "code",
   "execution_count": null,
   "metadata": {},
   "outputs": [],
   "source": []
  }
 ],
 "metadata": {
  "kernelspec": {
   "display_name": "Python 3",
   "language": "python",
   "name": "python3"
  },
  "language_info": {
   "codemirror_mode": {
    "name": "ipython",
    "version": 3
   },
   "file_extension": ".py",
   "mimetype": "text/x-python",
   "name": "python",
   "nbconvert_exporter": "python",
   "pygments_lexer": "ipython3",
   "version": "3.6.7"
  }
 },
 "nbformat": 4,
 "nbformat_minor": 2
}
